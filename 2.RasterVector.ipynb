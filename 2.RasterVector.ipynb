{
 "cells": [
  {
   "cell_type": "markdown",
   "metadata": {
    "colab_type": "text",
    "id": "AvbrbDeTFbdf"
   },
   "source": [
    "#Python_Programming\n",
    "\n",
    "---\n",
    "\n",
    "---\n",
    "\n",
    "I have explained the concepts of **Projections**, **Coordinate reference system**, **Transformation**, **NDVI**, and **NDWI** verbaly.\n",
    "\n",
    "Also I have done coding to, \n",
    "\n",
    "*   claculate Indices such as NDVI, NDWI and NDBI.\n",
    "*   create composite images such as FCC, NaturalColor.\n",
    "*   extract the region of intrest out of the result.\n",
    "\n",
    "\n"
   ]
  },
  {
   "cell_type": "markdown",
   "metadata": {
    "colab_type": "text",
    "id": "myx3MbYn6iC-"
   },
   "source": [
    "##Map Projections\n",
    "---\n",
    "Earth is not a Plane surface but the maps we see are printed on 2D paper. Have you wondered how this can be achieved? The answer is, earth surface is projected to a plane surface and it is scaled down to small Paper size(like A0). \n",
    "\n",
    "Now, lets us discuss different types of projections. But why do we need different types of projections? Our Earth is not smooth Spherical in shape as we see in movies. When only the terrain is mapped earth looks like a crushed paper ball [Earth IMG](https://images.app.goo.gl/8HiHxPMbW8p1obg89). \n",
    "\n",
    "So it is obvious that a single projection cannot be used across the globe to map all the features. Projection are chosen by considering which property of the geographical features to be conserved such as *area, shape, distance, or direction*. All four properties cannot be conserved in one projection, so the projection has to be chosen based on what property is more important to be conserved. Also, the surface onto which the features are projected plays an important role. Diffrent types of surfaces are Conical, Cylindrical, Planar.\n",
    "\n",
    "\n",
    "*   Counties near the polar regions  (Greenland, New Zealand) follow **Conical projection**.\n",
    "*   Countries near Equator (Brazil) follow **Cylindrical projection**.\n",
    "*   Poles are projected by **Planar/Azimuthal projection**.\n",
    "\n",
    "[Projection IMG](https://images.app.goo.gl/MmBMubQMyhw7EGNB9).\n",
    "\n",
    "To further understand this concept lets learn about **coordinate reference system**\n",
    "\n",
    "##Coordinate Reference System\n",
    "\n",
    "---\n",
    "*A system used to register and measure horizontal and vertical distance on a map ~ C.P. Lo*\n",
    "\n",
    "It is a coordinate-based local, regional, or global system used to locate geographical features.  Also, it defines a specific map projection, as well as transformations between different reference systems\n",
    "\n",
    "WGS 84 is a coordinate reference system that is developed by the U.S. Department of Defense. It can also be said as a \"global reference system\" for geospatial information and is\n",
    "the reference system for the Global Positioning System (GPS). So the best fit of the entire globe is WGS 84.  But to get more accurate information about any location we have to choose the projection as discussed earlier. \n",
    "\n",
    "Data collected for a project can be from different sources hence they all may not be on the same projection, it is very important to only overlay and compare maps of the same projection, or to calculate distance or area in metric units from decimal coordinate system projection WGS 84 transformation is used.  This leads to the concept of **Transformation**\n",
    "\n",
    "##Transformation. \n",
    "\n",
    "---\n",
    "\n",
    "Changing from one coordinate reference system to another is called Transformation. While opening a map in any GIS software such as (ArcMap) the first map loaded in a project will be taken as the reference coordinate system and the other maps loaded will be automatically projected to previous layer projection. Hence it is very important to check the projection of all maps and project it to the same coordinate system before working on them. \n",
    "Now what to do if the cell size doesn't be same on diffrent Raster ? We have to do **Resampling**\n",
    "\n",
    "##Resampling\n",
    "\n",
    "---\n",
    "\n",
    "The process of deriving pixel values for a new image from an existing image is called as resampling. For Example in NDBI, We are about to compute with Bands SWIR1375, NIR which of resolution 20m and 10m respectively. Hence SWIR1375 is Resampled to match the NIR resolution using **nearest neighbor** \n",
    "\n",
    "###Nearest Neighbor\n",
    "\n",
    "---\n",
    "Nearest Neighbor Algotithm takes the cell center from the input raster data set to determine the closest cell center of the output raster.\n",
    "\n",
    "Thus we have discussed briefly Map Projection, Coordinate Reference System, Resampling, Nearest Neighbor and why Transformation is important.\n",
    "\n",
    "Next lets us discuss about Calculation of Indices."
   ]
  },
  {
   "cell_type": "markdown",
   "metadata": {
    "colab_type": "text",
    "id": "KVu8Bs-_NB8N"
   },
   "source": [
    "##INDICES\n"
   ]
  },
  {
   "cell_type": "markdown",
   "metadata": {
    "colab_type": "text",
    "id": "qPKaag0xMU66"
   },
   "source": [
    "###Normalized Difference Vegetation Index (NDVI)\n",
    "---\n",
    "NDVI is the most commonly used vegetation index for monitoring the condition of vegetation/health of plantation.\n",
    "\n",
    "This is calculated using Satellite imagery (Sentinal, LandSat, Cartosat.. ) which is capable of capturing information in multispectral bands. \n",
    "\n",
    "*Formula:* $NDVI = \\frac{\\left(NIR - Red\\right)} {\\left(NIR + Red\\right)}$\n",
    "\n",
    "Red band and NIR band are used to calculate the index. The calculated value ranges from -1 to 1. Also below is the value range for different types of vegetation.\n",
    "\n",
    "\n",
    "*   less than 0.1 - Barren Rocks, Sand, or Snow\n",
    "*   0.2 to 0.3    - shrub and grassland\n",
    "*   0.6 to 0.8    - tropical rainforests\n",
    "\n",
    "[ESA (reference for index)](https://earthobservatory.nasa.gov/features/MeasuringVegetation)\n",
    "\n",
    "*Explanation:* Red, Green, Blue are the primary colors, and combinations of these colors only produce other colors seen by the human eye. Plants look green to our eyes because it observes most of the Red and Blue light when sun rays fall on it. Through experiments, it is found that chlorophyll content is observing more Red light so we can conclude that if emitted Red light is low from any region it contains high chlorophyll and vice-versa. Also, NIR would be strong for vegetation too. \n",
    "\n",
    "[NDVI Image](https://images.app.goo.gl/HJ7FM8yYZgcWokmSA)\n",
    "\n",
    "Hence by calculating this Index we can comment on the vegetation in a particular region. \n",
    "\n"
   ]
  },
  {
   "cell_type": "markdown",
   "metadata": {
    "colab_type": "text",
    "id": "9r5yEiRKM-fV"
   },
   "source": [
    "###Normalized Difference Water Index (NDWI)\n",
    "\n",
    "---\n",
    "NDWI is the most commonly used water index for monitoring the condition of \n",
    "\n",
    "\n",
    "*   Water content in Plants (Vegetation)\n",
    "*   Water content in water bodies (Pond, Lakes, etc.,)\n",
    "\n",
    "This is claculated using Satellite imagery (Sentinal, LandSat, Cartosat.. ) which is capable of capturing information in multispectral bands.\n",
    "\n",
    "*Formula:*\n",
    "> Water content in Plants\n",
    "\n",
    "$NDWI_{Plants} = \\frac{\\left(NIR - SWIR\\right)} {\\left(NIR + SWIR\\right)}$\n",
    "\n",
    "> Water content in water bodies\n",
    "\n",
    " $NDWI_{WaterBodies} = \\frac{\\left(Green - NIR\\right)} {\\left(Green + NIR\\right)}$.\n",
    "\n",
    "*Explanation:*It varies from -1 to +1, it depends on the type of vegetation and cover. The high NDWI values correspond to high plant water content and coating of high plant fraction. Low NDWI values ​ correspond to low vegetation content and cover with low vegetation. During periods of water stress the NDWI rate will decrease.\n",
    "\n",
    "The NDWI index for assessing risk of fire is used to determine the presence of moisture in vegetation cover. Higher NDWI values ​​indicate sufficient moisture, while a low value indicates water stress\n",
    "\n",
    "\n",
    "\n",
    "\n",
    "\n",
    "\n",
    "\n",
    "\n",
    "\n",
    "\n"
   ]
  },
  {
   "cell_type": "markdown",
   "metadata": {
    "colab_type": "text",
    "id": "UeNEqDQkpunE"
   },
   "source": [
    "#Imports"
   ]
  },
  {
   "cell_type": "code",
   "execution_count": 1,
   "metadata": {
    "colab": {},
    "colab_type": "code",
    "id": "QAx__HSmpo10"
   },
   "outputs": [],
   "source": [
    "#Basic Library\n",
    "import pandas as pd\n",
    "import numpy as np \n",
    "import matplotlib.pyplot as plt \n",
    "import seaborn as sns\n",
    "import os \n",
    "import glob\n",
    "from termcolor import colored\n",
    "\n",
    "#Spatial Library\n",
    "import fiona\n",
    "import geopandas as gpd\n",
    "import rasterio\n",
    "from rasterio import plot\n",
    "from rasterio import mask\n",
    "from rasterio.enums import Resampling\n",
    "from rasterio.warp import calculate_default_transform, reproject"
   ]
  },
  {
   "cell_type": "markdown",
   "metadata": {
    "colab_type": "text",
    "id": "rI4qM6CFp4Bu"
   },
   "source": [
    "#Satellite Imgag"
   ]
  },
  {
   "cell_type": "code",
   "execution_count": 2,
   "metadata": {
    "colab": {},
    "colab_type": "code",
    "id": "tnctBcbspo5V"
   },
   "outputs": [],
   "source": [
    "def read_data():\n",
    "    '''Enter the number to read the data from Sentinal 2 Imagery...'''\n",
    "    path = input(\"Enter the path to folder for satellit: \\n\")\n",
    "    pattern = input(\"\\nEnter the pattern of satellite with * \\n like (*.tif or *.jp2): \")\n",
    "    p = os.path.join(path, pattern)\n",
    "    file = glob.glob(p)\n",
    "    band = ['Band1','Band2','Band3','Band4','Band5','Band6','Band7','Band8','Band9','Band10','Band11','Band12','Band13']\n",
    "    spectral = [\"CoastalAerosol\", \"Blue\", \"Green\", \"Red\", \"VNIR705\", \"VNIR740\", \"VNIR783\", \"VNIR842\", \"VNIR865\",\n",
    "                      \"SWIR940\", \"SWIR1375\", \"SWIR1610\", \"SWIR2019\"]\n",
    "    spectral_bands = zip(band, spectral)\n",
    "    print(\"\\nSentinal Reference:\")\n",
    "    for s in spectral_bands:\n",
    "        print(s)\n",
    "    \n",
    "    ca = rasterio.open(file[0])\n",
    "    b = rasterio.open(file[1])\n",
    "    g = rasterio.open(file[2])\n",
    "    r = rasterio.open(file[3])\n",
    "    v1 = rasterio.open(file[4])\n",
    "    v2 = rasterio.open(file[5])\n",
    "    v3 = rasterio.open(file[6])\n",
    "    nir = rasterio.open(file[7])\n",
    "    v4 = rasterio.open(file[8])\n",
    "    wv = rasterio.open(file[9])\n",
    "    s1 = rasterio.open(file[10])\n",
    "    s2 = rasterio.open(file[11])\n",
    "    s3 = rasterio.open(file[12])\n",
    "    \n",
    "    return ca, b, g, r, v1, v2, v3, nir, v4, wv, s1, s2, s3 "
   ]
  },
  {
   "cell_type": "markdown",
   "metadata": {
    "colab_type": "text",
    "id": "oZ1KabQGdBz_"
   },
   "source": [
    "##Band Combinatins"
   ]
  },
  {
   "cell_type": "code",
   "execution_count": 3,
   "metadata": {
    "colab": {},
    "colab_type": "code",
    "id": "0YymnojGwUA8"
   },
   "outputs": [],
   "source": [
    "def band_combination(b1, b2, b3, name):\n",
    "    '''\n",
    "    Enter the Bands information by refering the example below. \n",
    "    Eg.,\n",
    "        Natural Colour (Red, Green, Blue, \"TCC\")\n",
    "        False Colour (Green, Blue, nir, \"FCC\")'''\n",
    "    \n",
    "    path = input(\"Enter the path to to save the band combination: \")\n",
    "    comb = \"{}.tif\".format(name)\n",
    "    \n",
    "    p = os.path.join(path, comb)\n",
    "    \n",
    "    combinations = rasterio.open(p, 'w',\n",
    "                        driver = \"Gtiff\",\n",
    "                        width=b1.width,\n",
    "                        height=b1.height,\n",
    "                        crs=b1.crs,\n",
    "                        count=3,\n",
    "                        transform=b1.transform,\n",
    "                        dtype=b1.dtypes[0])\n",
    "    combinations.write(b3.read(1),3)\n",
    "    combinations.write(b2.read(1),2)\n",
    "    combinations.write(b1.read(1),1)\n",
    "    combinations.close()\n",
    "    print(colored(\"\\nSuccess. {} image has been created at location {}\".format(name, p), attrs=['bold']))"
   ]
  },
  {
   "cell_type": "markdown",
   "metadata": {
    "colab_type": "text",
    "id": "VMAZ8y0kdKJJ"
   },
   "source": [
    "##Calculating Index"
   ]
  },
  {
   "cell_type": "code",
   "execution_count": 4,
   "metadata": {
    "colab": {},
    "colab_type": "code",
    "id": "vobhQX76ysVW"
   },
   "outputs": [],
   "source": [
    "def creat_index(b1, b2, name):\n",
    "\n",
    "    path = input(\"Enter the path to to save the band combination: \")\n",
    "    comb = \"{}.tif\".format(name)\n",
    "    p1 = os.path.join(path, comb)\n",
    "        \n",
    "    if b1.height != b2.height:\n",
    "        p2 = Resample_Raster(b1, b2.height/b1.height, path, name)\n",
    "        b1 = rasterio.open(p2)\n",
    "        \n",
    "    n = b1.read(1)\n",
    "    r = b2.read(1)\n",
    "    comp = (n - r)/(n + r)\n",
    "\n",
    "    metadata = b2.meta\n",
    "    metadata.update({'count' :1,'dtype':'float64','driver': 'GTiff'})\n",
    "    result = rasterio.open(p1, \"w\", **metadata)\n",
    "    result.write(comp,1)\n",
    "    result.close()\n",
    "    \n",
    "    print(colored(\"\\nSuccess. {} image has been created at location {}\".format(name, p1), attrs=['bold']))"
   ]
  },
  {
   "cell_type": "code",
   "execution_count": 5,
   "metadata": {},
   "outputs": [],
   "source": [
    "def Resample_Raster(dataset, upscale_factor, path, name):\n",
    "    \n",
    "    data = dataset.read(out_shape=(dataset.count,int(dataset.height * upscale_factor),int(dataset.width * upscale_factor)),\n",
    "                        resampling=Resampling.bilinear)\n",
    "    \n",
    "    # scale image transform\n",
    "    transform = dataset.transform * dataset.transform.scale((dataset.width / data.shape[-1]),(dataset.height / data.shape[-2]))\n",
    "\n",
    "    metadata = dataset.meta\n",
    "    metadata.update({'dtype':'uint16','driver': 'GTiff', \n",
    "                     'height':dataset.height * upscale_factor, 'width':dataset.width * upscale_factor})\n",
    "    \n",
    "    resamplee = \"{}_Resample.tif\".format(name)\n",
    "    p3 = os.path.join(path,resamplee)\n",
    "    result = rasterio.open(p3, \"w\", **metadata)\n",
    "    result.write(data)\n",
    "    result.close()\n",
    "    \n",
    "    return p3"
   ]
  },
  {
   "cell_type": "markdown",
   "metadata": {
    "colab_type": "text",
    "id": "ZFZYsjGKqND4"
   },
   "source": [
    "#Getting Region of Interest (.shp)"
   ]
  },
  {
   "cell_type": "code",
   "execution_count": 14,
   "metadata": {
    "colab": {},
    "colab_type": "code",
    "id": "mE1K6avOqWuw"
   },
   "outputs": [],
   "source": [
    "def roi():\n",
    "    \n",
    "    path1 = input(\"Enter the file path of for ROI (.shp format): \")    \n",
    "    with fiona.open(path1, \"r\") as shp:\n",
    "        shapes = []\n",
    "        vec_crs = shp.crs\n",
    "        for feature in shp:\n",
    "            shapes.append(feature[\"geometry\"])\n",
    "\n",
    "    path2 = input(\"Enter the file path of Raster Image: \") \n",
    "    print(\"\\n\\n\")\n",
    "    with rasterio.open(path2) as src:\n",
    "        if src.crs != vec_crs:\n",
    "            path3 = Project_Raster(path2, vec_crs)\n",
    "        else:\n",
    "            path3 = path2\n",
    "            print(\"Projection Matches!\")\n",
    "    print(\"\\n\\n\")\n",
    "            \n",
    "    with rasterio.open(path3) as src:\n",
    "        out_image, out_transform = rasterio.mask.mask(src, shapes, crop=True)\n",
    "        out_meta = src.meta\n",
    "        x, y = src.res\n",
    "        h = out_image.shape[1]\n",
    "        w = out_image.shape[2]\n",
    "    \n",
    "    out_meta.update({\"driver\": \"GTiff\",\n",
    "                 \"height\": out_image.shape[1],\n",
    "                 \"width\": out_image.shape[2],\n",
    "                 \"transform\": out_transform})\n",
    "    \n",
    "    path3 = input(\"Enter the file path of folder to save the ROI image: \")\n",
    "    name = input(\"Enter the name with extension (.tif): \")\n",
    "    p = os.path.join(path3, name)\n",
    "\n",
    "    with rasterio.open(p, \"w\", **out_meta) as dest:\n",
    "        dest.write(out_image)\n",
    "\n",
    "    print(colored(\"\\nSuccess. The ROI image {} has been stored at location {} \".format(name, path3), attrs=['bold']))   "
   ]
  },
  {
   "cell_type": "code",
   "execution_count": 7,
   "metadata": {},
   "outputs": [],
   "source": [
    "def Project_Raster(path2, dst_crs):\n",
    "    with rasterio.open(path2) as src:\n",
    "        transform, width, height = calculate_default_transform(src.crs, dst_crs, src.width, src.height, *src.bounds)\n",
    "        kwargs = src.meta.copy()\n",
    "        kwargs.update({\n",
    "            'crs': dst_crs,\n",
    "            'transform': transform,\n",
    "            'width': width,\n",
    "            'height': height\n",
    "        })\n",
    "    \n",
    "        print(\"Raster CRS and Vector CRS Doesnt match. \\nSo the Raster is Reprojected to Vector project: \")\n",
    "        path3 = input(\"Enter the file path of folder and Name to save the Reprojected Raster: \")\n",
    "\n",
    "        with rasterio.open(path3, 'w', **kwargs) as dst:\n",
    "            for i in range(1, src.count + 1):\n",
    "                reproject(\n",
    "                    source=rasterio.band(src, i),\n",
    "                    destination=rasterio.band(dst, i),\n",
    "                    src_transform=src.transform,\n",
    "                    src_crs=src.crs,\n",
    "                    dst_transform=transform,\n",
    "                    dst_crs=dst_crs,\n",
    "                    resampling=Resampling.nearest)\n",
    "    return path3"
   ]
  },
  {
   "cell_type": "markdown",
   "metadata": {
    "colab_type": "text",
    "id": "mdZ9bubZxzjA"
   },
   "source": [
    "# Main Program"
   ]
  },
  {
   "cell_type": "code",
   "execution_count": 8,
   "metadata": {
    "colab": {},
    "colab_type": "code",
    "id": "JyatCfUmdWFO"
   },
   "outputs": [
    {
     "name": "stdout",
     "output_type": "stream",
     "text": [
      "Enter the path to folder for satellit: \n",
      "L1C_T43PHL_A017491_20200712T051957\\S2B_MSIL1C_20200712T050659_N0209_R019_T43PHL_20200712T085717.SAFE\\GRANULE\\L1C_T43PHL_A017491_20200712T051957\\IMG_DATA\n",
      "\n",
      "Enter the pattern of satellite with * \n",
      " like (*.tif or *.jp2): *.jp2\n",
      "\n",
      "Sentinal Reference:\n",
      "('Band1', 'CoastalAerosol')\n",
      "('Band2', 'Blue')\n",
      "('Band3', 'Green')\n",
      "('Band4', 'Red')\n",
      "('Band5', 'VNIR705')\n",
      "('Band6', 'VNIR740')\n",
      "('Band7', 'VNIR783')\n",
      "('Band8', 'VNIR842')\n",
      "('Band9', 'VNIR865')\n",
      "('Band10', 'SWIR940')\n",
      "('Band11', 'SWIR1375')\n",
      "('Band12', 'SWIR1610')\n",
      "('Band13', 'SWIR2019')\n"
     ]
    }
   ],
   "source": [
    "#Reading Data\n",
    "#L1C_T43PHL_A017491_20200712T051957\\S2B_MSIL1C_20200712T050659_N0209_R019_T43PHL_20200712T085717.SAFE\\GRANULE\\L1C_T43PHL_A017491_20200712T051957\\IMG_DATA\n",
    "CoastalAerosol, Blue, Green, Red, VNIR705, VNIR740, VNIR783, NIR, VNIR865, WaterVapour, SWIR1375, SWIR1610, SWIR2019  = read_data()"
   ]
  },
  {
   "cell_type": "code",
   "execution_count": 9,
   "metadata": {
    "colab": {},
    "colab_type": "code",
    "id": "K6iic0kTdcKO"
   },
   "outputs": [
    {
     "name": "stdout",
     "output_type": "stream",
     "text": [
      "Enter the path to to save the band combination: Output\\CompositeImages\n",
      "\u001b[1m\n",
      "Success. TCC image has been created at location Output\\CompositeImages\\TCC.tif\u001b[0m\n"
     ]
    }
   ],
   "source": [
    "#Band Combinations\n",
    "#True Colour\n",
    "band_combination(Red, Green, Blue, \"TCC\")"
   ]
  },
  {
   "cell_type": "code",
   "execution_count": 10,
   "metadata": {},
   "outputs": [
    {
     "name": "stdout",
     "output_type": "stream",
     "text": [
      "Enter the path to to save the band combination: Output\\CompositeImages\n",
      "\u001b[1m\n",
      "Success. FCC image has been created at location Output\\CompositeImages\\FCC.tif\u001b[0m\n"
     ]
    }
   ],
   "source": [
    "#False Colour\n",
    "band_combination(Green, Blue, NIR, \"FCC\")\n",
    "\n",
    "#Create your own composite image by passing 3 band name and Name to store the image\n",
    "#band_combination(, , , \" \")\n",
    "#band_combination(, , , \" \")"
   ]
  },
  {
   "cell_type": "code",
   "execution_count": 11,
   "metadata": {
    "colab": {},
    "colab_type": "code",
    "id": "SY82cuB6rvqA"
   },
   "outputs": [
    {
     "name": "stdout",
     "output_type": "stream",
     "text": [
      "Enter the path to to save the band combination: Output\\IndexImages\n"
     ]
    },
    {
     "name": "stderr",
     "output_type": "stream",
     "text": [
      "C:\\Users\\User\\anaconda3\\envs\\Python_foundation\\lib\\site-packages\\ipykernel_launcher.py:13: RuntimeWarning: invalid value encountered in true_divide\n",
      "  del sys.path[0]\n"
     ]
    },
    {
     "name": "stdout",
     "output_type": "stream",
     "text": [
      "\u001b[1m\n",
      "Success. NDVI image has been created at location Output\\IndexImages\\NDVI.tif\u001b[0m\n"
     ]
    }
   ],
   "source": [
    "#Calculate NDVI\n",
    "creat_index(NIR, Red, \"NDVI\")"
   ]
  },
  {
   "cell_type": "code",
   "execution_count": 12,
   "metadata": {
    "scrolled": true
   },
   "outputs": [
    {
     "name": "stdout",
     "output_type": "stream",
     "text": [
      "Enter the path to to save the band combination: Output\\IndexImages\n"
     ]
    },
    {
     "name": "stderr",
     "output_type": "stream",
     "text": [
      "C:\\Users\\User\\anaconda3\\envs\\Python_foundation\\lib\\site-packages\\ipykernel_launcher.py:13: RuntimeWarning: invalid value encountered in true_divide\n",
      "  del sys.path[0]\n"
     ]
    },
    {
     "name": "stdout",
     "output_type": "stream",
     "text": [
      "\u001b[1m\n",
      "Success. NDBI image has been created at location Output\\IndexImages\\NDBI.tif\u001b[0m\n"
     ]
    }
   ],
   "source": [
    "#Calculate NDBI\n",
    "creat_index(SWIR1375, NIR, \"NDBI\")\n",
    "\n",
    "#Calculate own index\n",
    "#creat_index(, , \" \")\n",
    "#creat_index(, , \" \")"
   ]
  },
  {
   "cell_type": "code",
   "execution_count": 15,
   "metadata": {
    "colab": {},
    "colab_type": "code",
    "id": "D9OP6K3bpo5c"
   },
   "outputs": [
    {
     "name": "stdout",
     "output_type": "stream",
     "text": [
      "Enter the file path of for ROI (.shp format): Madurai\\Region_of_intrest.shp\n",
      "Enter the file path of Raster Image: Output\\IndexImages\\NDBI.tif\n",
      "\n",
      "\n",
      "\n",
      "Raster CRS and Vector CRS Doesnt match. \n",
      "So the Raster is Reprojected to Vector project: \n",
      "Enter the file path of folder and Name to save the Reprojected Raster: Output\\IndexImages\\Resampled_NDBI.tif\n",
      "\n",
      "\n",
      "\n",
      "Enter the file path of folder to save the ROI image: Output\\ROI\n",
      "Enter the name with extension (.tif): Madurai_region.tif\n",
      "\u001b[1m\n",
      "Success. The ROI image Madurai_region.tif has been stored at location Output\\ROI \u001b[0m\n"
     ]
    }
   ],
   "source": [
    "#Extract Region od Interest\n",
    "roi()"
   ]
  },
  {
   "cell_type": "code",
   "execution_count": null,
   "metadata": {},
   "outputs": [],
   "source": []
  },
  {
   "cell_type": "code",
   "execution_count": null,
   "metadata": {},
   "outputs": [],
   "source": []
  }
 ],
 "metadata": {
  "colab": {
   "collapsed_sections": [],
   "name": "2.RasterVector.ipynb",
   "provenance": []
  },
  "kernelspec": {
   "display_name": "Python 3",
   "language": "python",
   "name": "python3"
  },
  "language_info": {
   "codemirror_mode": {
    "name": "ipython",
    "version": 3
   },
   "file_extension": ".py",
   "mimetype": "text/x-python",
   "name": "python",
   "nbconvert_exporter": "python",
   "pygments_lexer": "ipython3",
   "version": "3.7.8"
  }
 },
 "nbformat": 4,
 "nbformat_minor": 1
}
